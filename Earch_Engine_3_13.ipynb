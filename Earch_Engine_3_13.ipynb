{
 "cells": [
  {
   "cell_type": "markdown",
   "id": "dfb806a9-7e7f-4c76-b622-43b06fc9b582",
   "metadata": {},
   "source": [
    "## Authenticate and Initialize Earth Engine"
   ]
  },
  {
   "cell_type": "code",
   "execution_count": 2,
   "id": "ade214d0-7bc5-4985-b058-2523980d2df0",
   "metadata": {},
   "outputs": [
    {
     "name": "stdout",
     "output_type": "stream",
     "text": [
      "Requirement already satisfied: earthengine-api in c:\\newdownload\\lib\\site-packages (1.5.1)\n",
      "Requirement already satisfied: google-cloud-storage in c:\\newdownload\\lib\\site-packages (from earthengine-api) (3.0.0)\n",
      "Requirement already satisfied: google-api-python-client>=1.12.1 in c:\\newdownload\\lib\\site-packages (from earthengine-api) (2.160.0)\n",
      "Requirement already satisfied: google-auth>=1.4.1 in c:\\newdownload\\lib\\site-packages (from earthengine-api) (2.38.0)\n",
      "Requirement already satisfied: google-auth-httplib2>=0.0.3 in c:\\newdownload\\lib\\site-packages (from earthengine-api) (0.2.0)\n",
      "Requirement already satisfied: httplib2<1dev,>=0.9.2 in c:\\newdownload\\lib\\site-packages (from earthengine-api) (0.22.0)\n",
      "Requirement already satisfied: requests in c:\\newdownload\\lib\\site-packages (from earthengine-api) (2.32.3)\n",
      "Requirement already satisfied: google-api-core!=2.0.*,!=2.1.*,!=2.2.*,!=2.3.0,<3.0.0.dev0,>=1.31.5 in c:\\newdownload\\lib\\site-packages (from google-api-python-client>=1.12.1->earthengine-api) (2.24.1)\n",
      "Requirement already satisfied: uritemplate<5,>=3.0.1 in c:\\newdownload\\lib\\site-packages (from google-api-python-client>=1.12.1->earthengine-api) (4.1.1)\n",
      "Requirement already satisfied: cachetools<6.0,>=2.0.0 in c:\\newdownload\\lib\\site-packages (from google-auth>=1.4.1->earthengine-api) (5.3.3)\n",
      "Requirement already satisfied: pyasn1-modules>=0.2.1 in c:\\newdownload\\lib\\site-packages (from google-auth>=1.4.1->earthengine-api) (0.2.8)\n",
      "Requirement already satisfied: rsa<5,>=3.1.4 in c:\\newdownload\\lib\\site-packages (from google-auth>=1.4.1->earthengine-api) (4.9)\n",
      "Requirement already satisfied: pyparsing!=3.0.0,!=3.0.1,!=3.0.2,!=3.0.3,<4,>=2.4.2 in c:\\newdownload\\lib\\site-packages (from httplib2<1dev,>=0.9.2->earthengine-api) (3.1.2)\n",
      "Requirement already satisfied: google-cloud-core<3.0dev,>=2.3.0 in c:\\newdownload\\lib\\site-packages (from google-cloud-storage->earthengine-api) (2.4.1)\n",
      "Requirement already satisfied: google-resumable-media>=2.7.2 in c:\\newdownload\\lib\\site-packages (from google-cloud-storage->earthengine-api) (2.7.2)\n",
      "Requirement already satisfied: google-crc32c<2.0dev,>=1.0 in c:\\newdownload\\lib\\site-packages (from google-cloud-storage->earthengine-api) (1.6.0)\n",
      "Requirement already satisfied: charset-normalizer<4,>=2 in c:\\newdownload\\lib\\site-packages (from requests->earthengine-api) (3.3.2)\n",
      "Requirement already satisfied: idna<4,>=2.5 in c:\\newdownload\\lib\\site-packages (from requests->earthengine-api) (3.7)\n",
      "Requirement already satisfied: urllib3<3,>=1.21.1 in c:\\newdownload\\lib\\site-packages (from requests->earthengine-api) (2.2.3)\n",
      "Requirement already satisfied: certifi>=2017.4.17 in c:\\newdownload\\lib\\site-packages (from requests->earthengine-api) (2025.1.31)\n",
      "Requirement already satisfied: googleapis-common-protos<2.0.dev0,>=1.56.2 in c:\\newdownload\\lib\\site-packages (from google-api-core!=2.0.*,!=2.1.*,!=2.2.*,!=2.3.0,<3.0.0.dev0,>=1.31.5->google-api-python-client>=1.12.1->earthengine-api) (1.66.0)\n",
      "Requirement already satisfied: protobuf!=3.20.0,!=3.20.1,!=4.21.0,!=4.21.1,!=4.21.2,!=4.21.3,!=4.21.4,!=4.21.5,<6.0.0.dev0,>=3.19.5 in c:\\newdownload\\lib\\site-packages (from google-api-core!=2.0.*,!=2.1.*,!=2.2.*,!=2.3.0,<3.0.0.dev0,>=1.31.5->google-api-python-client>=1.12.1->earthengine-api) (4.25.3)\n",
      "Requirement already satisfied: proto-plus<2.0.0dev,>=1.22.3 in c:\\newdownload\\lib\\site-packages (from google-api-core!=2.0.*,!=2.1.*,!=2.2.*,!=2.3.0,<3.0.0.dev0,>=1.31.5->google-api-python-client>=1.12.1->earthengine-api) (1.26.0)\n",
      "Requirement already satisfied: pyasn1<0.5.0,>=0.4.6 in c:\\newdownload\\lib\\site-packages (from pyasn1-modules>=0.2.1->google-auth>=1.4.1->earthengine-api) (0.4.8)\n"
     ]
    },
    {
     "name": "stderr",
     "output_type": "stream",
     "text": [
      "WARNING: Ignoring invalid distribution ~ympy (C:\\NewDownload\\Lib\\site-packages)\n",
      "WARNING: Ignoring invalid distribution ~ympy (C:\\NewDownload\\Lib\\site-packages)\n",
      "WARNING: Ignoring invalid distribution ~ympy (C:\\NewDownload\\Lib\\site-packages)\n"
     ]
    }
   ],
   "source": [
    "!pip install earthengine-api"
   ]
  },
  {
   "cell_type": "code",
   "execution_count": 3,
   "id": "721e0cba-f704-4191-afaa-6faf61249807",
   "metadata": {
    "scrolled": true
   },
   "outputs": [
    {
     "name": "stdout",
     "output_type": "stream",
     "text": [
      "Requirement already satisfied: geemap in c:\\newdownload\\lib\\site-packages (0.35.1)\n",
      "Requirement already satisfied: bqplot in c:\\newdownload\\lib\\site-packages (from geemap) (0.12.44)\n",
      "Requirement already satisfied: colour in c:\\newdownload\\lib\\site-packages (from geemap) (0.1.5)\n",
      "Requirement already satisfied: earthengine-api>=1.0.0 in c:\\newdownload\\lib\\site-packages (from geemap) (1.5.1)\n",
      "Requirement already satisfied: eerepr>=0.0.4 in c:\\newdownload\\lib\\site-packages (from geemap) (0.1.0)\n",
      "Requirement already satisfied: folium>=0.17.0 in c:\\newdownload\\lib\\site-packages (from geemap) (0.19.4)\n",
      "Requirement already satisfied: geocoder in c:\\newdownload\\lib\\site-packages (from geemap) (1.38.1)\n",
      "Requirement already satisfied: ipyevents in c:\\newdownload\\lib\\site-packages (from geemap) (2.0.2)\n",
      "Requirement already satisfied: ipyfilechooser>=0.6.0 in c:\\newdownload\\lib\\site-packages (from geemap) (0.6.0)\n",
      "Requirement already satisfied: ipyleaflet>=0.19.2 in c:\\newdownload\\lib\\site-packages (from geemap) (0.19.2)\n",
      "Requirement already satisfied: ipytree in c:\\newdownload\\lib\\site-packages (from geemap) (0.2.2)\n",
      "Requirement already satisfied: matplotlib in c:\\newdownload\\lib\\site-packages (from geemap) (3.9.2)\n",
      "Requirement already satisfied: numpy in c:\\newdownload\\lib\\site-packages (from geemap) (1.26.4)\n",
      "Requirement already satisfied: pandas in c:\\newdownload\\lib\\site-packages (from geemap) (2.2.2)\n",
      "Requirement already satisfied: plotly in c:\\newdownload\\lib\\site-packages (from geemap) (5.24.1)\n",
      "Requirement already satisfied: pyperclip in c:\\newdownload\\lib\\site-packages (from geemap) (1.9.0)\n",
      "Requirement already satisfied: pyshp>=2.3.1 in c:\\newdownload\\lib\\site-packages (from geemap) (2.3.1)\n",
      "Requirement already satisfied: python-box in c:\\newdownload\\lib\\site-packages (from geemap) (7.3.2)\n",
      "Requirement already satisfied: scooby in c:\\newdownload\\lib\\site-packages (from geemap) (0.10.0)\n",
      "Requirement already satisfied: google-cloud-storage in c:\\newdownload\\lib\\site-packages (from earthengine-api>=1.0.0->geemap) (3.0.0)\n",
      "Requirement already satisfied: google-api-python-client>=1.12.1 in c:\\newdownload\\lib\\site-packages (from earthengine-api>=1.0.0->geemap) (2.160.0)\n",
      "Requirement already satisfied: google-auth>=1.4.1 in c:\\newdownload\\lib\\site-packages (from earthengine-api>=1.0.0->geemap) (2.38.0)\n",
      "Requirement already satisfied: google-auth-httplib2>=0.0.3 in c:\\newdownload\\lib\\site-packages (from earthengine-api>=1.0.0->geemap) (0.2.0)\n",
      "Requirement already satisfied: httplib2<1dev,>=0.9.2 in c:\\newdownload\\lib\\site-packages (from earthengine-api>=1.0.0->geemap) (0.22.0)\n",
      "Requirement already satisfied: requests in c:\\newdownload\\lib\\site-packages (from earthengine-api>=1.0.0->geemap) (2.32.3)\n",
      "Requirement already satisfied: branca>=0.6.0 in c:\\newdownload\\lib\\site-packages (from folium>=0.17.0->geemap) (0.8.1)\n",
      "Requirement already satisfied: jinja2>=2.9 in c:\\newdownload\\lib\\site-packages (from folium>=0.17.0->geemap) (3.1.4)\n",
      "Requirement already satisfied: xyzservices in c:\\newdownload\\lib\\site-packages (from folium>=0.17.0->geemap) (2022.9.0)\n",
      "Requirement already satisfied: ipywidgets in c:\\newdownload\\lib\\site-packages (from ipyfilechooser>=0.6.0->geemap) (8.1.5)\n",
      "Requirement already satisfied: jupyter-leaflet<0.20,>=0.19 in c:\\newdownload\\lib\\site-packages (from ipyleaflet>=0.19.2->geemap) (0.19.2)\n",
      "Requirement already satisfied: traittypes<3,>=0.2.1 in c:\\newdownload\\lib\\site-packages (from ipyleaflet>=0.19.2->geemap) (0.2.1)\n",
      "Requirement already satisfied: traitlets>=4.3.0 in c:\\newdownload\\lib\\site-packages (from bqplot->geemap) (5.14.3)\n",
      "Requirement already satisfied: python-dateutil>=2.8.2 in c:\\newdownload\\lib\\site-packages (from pandas->geemap) (2.9.0.post0)\n",
      "Requirement already satisfied: pytz>=2020.1 in c:\\newdownload\\lib\\site-packages (from pandas->geemap) (2024.1)\n",
      "Requirement already satisfied: tzdata>=2022.7 in c:\\newdownload\\lib\\site-packages (from pandas->geemap) (2023.3)\n",
      "Requirement already satisfied: click in c:\\newdownload\\lib\\site-packages (from geocoder->geemap) (8.1.7)\n",
      "Requirement already satisfied: future in c:\\newdownload\\lib\\site-packages (from geocoder->geemap) (1.0.0)\n",
      "Requirement already satisfied: ratelim in c:\\newdownload\\lib\\site-packages (from geocoder->geemap) (0.1.6)\n",
      "Requirement already satisfied: six in c:\\newdownload\\lib\\site-packages (from geocoder->geemap) (1.16.0)\n",
      "Requirement already satisfied: contourpy>=1.0.1 in c:\\newdownload\\lib\\site-packages (from matplotlib->geemap) (1.2.0)\n",
      "Requirement already satisfied: cycler>=0.10 in c:\\newdownload\\lib\\site-packages (from matplotlib->geemap) (0.11.0)\n",
      "Requirement already satisfied: fonttools>=4.22.0 in c:\\newdownload\\lib\\site-packages (from matplotlib->geemap) (4.51.0)\n",
      "Requirement already satisfied: kiwisolver>=1.3.1 in c:\\newdownload\\lib\\site-packages (from matplotlib->geemap) (1.4.4)\n",
      "Requirement already satisfied: packaging>=20.0 in c:\\newdownload\\lib\\site-packages (from matplotlib->geemap) (24.1)\n",
      "Requirement already satisfied: pillow>=8 in c:\\newdownload\\lib\\site-packages (from matplotlib->geemap) (10.4.0)\n",
      "Requirement already satisfied: pyparsing>=2.3.1 in c:\\newdownload\\lib\\site-packages (from matplotlib->geemap) (3.1.2)\n",
      "Requirement already satisfied: tenacity>=6.2.0 in c:\\newdownload\\lib\\site-packages (from plotly->geemap) (8.2.3)\n",
      "Requirement already satisfied: google-api-core!=2.0.*,!=2.1.*,!=2.2.*,!=2.3.0,<3.0.0.dev0,>=1.31.5 in c:\\newdownload\\lib\\site-packages (from google-api-python-client>=1.12.1->earthengine-api>=1.0.0->geemap) (2.24.1)\n",
      "Requirement already satisfied: uritemplate<5,>=3.0.1 in c:\\newdownload\\lib\\site-packages (from google-api-python-client>=1.12.1->earthengine-api>=1.0.0->geemap) (4.1.1)\n",
      "Requirement already satisfied: cachetools<6.0,>=2.0.0 in c:\\newdownload\\lib\\site-packages (from google-auth>=1.4.1->earthengine-api>=1.0.0->geemap) (5.3.3)\n",
      "Requirement already satisfied: pyasn1-modules>=0.2.1 in c:\\newdownload\\lib\\site-packages (from google-auth>=1.4.1->earthengine-api>=1.0.0->geemap) (0.2.8)\n",
      "Requirement already satisfied: rsa<5,>=3.1.4 in c:\\newdownload\\lib\\site-packages (from google-auth>=1.4.1->earthengine-api>=1.0.0->geemap) (4.9)\n",
      "Requirement already satisfied: comm>=0.1.3 in c:\\newdownload\\lib\\site-packages (from ipywidgets->ipyfilechooser>=0.6.0->geemap) (0.2.1)\n",
      "Requirement already satisfied: ipython>=6.1.0 in c:\\newdownload\\lib\\site-packages (from ipywidgets->ipyfilechooser>=0.6.0->geemap) (8.27.0)\n",
      "Requirement already satisfied: widgetsnbextension~=4.0.12 in c:\\newdownload\\lib\\site-packages (from ipywidgets->ipyfilechooser>=0.6.0->geemap) (4.0.13)\n",
      "Requirement already satisfied: jupyterlab-widgets~=3.0.12 in c:\\newdownload\\lib\\site-packages (from ipywidgets->ipyfilechooser>=0.6.0->geemap) (3.0.13)\n",
      "Requirement already satisfied: MarkupSafe>=2.0 in c:\\newdownload\\lib\\site-packages (from jinja2>=2.9->folium>=0.17.0->geemap) (2.1.3)\n",
      "Requirement already satisfied: colorama in c:\\newdownload\\lib\\site-packages (from click->geocoder->geemap) (0.4.6)\n",
      "Requirement already satisfied: google-cloud-core<3.0dev,>=2.3.0 in c:\\newdownload\\lib\\site-packages (from google-cloud-storage->earthengine-api>=1.0.0->geemap) (2.4.1)\n",
      "Requirement already satisfied: google-resumable-media>=2.7.2 in c:\\newdownload\\lib\\site-packages (from google-cloud-storage->earthengine-api>=1.0.0->geemap) (2.7.2)\n",
      "Requirement already satisfied: google-crc32c<2.0dev,>=1.0 in c:\\newdownload\\lib\\site-packages (from google-cloud-storage->earthengine-api>=1.0.0->geemap) (1.6.0)\n",
      "Requirement already satisfied: charset-normalizer<4,>=2 in c:\\newdownload\\lib\\site-packages (from requests->earthengine-api>=1.0.0->geemap) (3.3.2)\n",
      "Requirement already satisfied: idna<4,>=2.5 in c:\\newdownload\\lib\\site-packages (from requests->earthengine-api>=1.0.0->geemap) (3.7)\n",
      "Requirement already satisfied: urllib3<3,>=1.21.1 in c:\\newdownload\\lib\\site-packages (from requests->earthengine-api>=1.0.0->geemap) (2.2.3)\n",
      "Requirement already satisfied: certifi>=2017.4.17 in c:\\newdownload\\lib\\site-packages (from requests->earthengine-api>=1.0.0->geemap) (2025.1.31)\n",
      "Requirement already satisfied: decorator in c:\\newdownload\\lib\\site-packages (from ratelim->geocoder->geemap) (5.1.1)\n",
      "Requirement already satisfied: googleapis-common-protos<2.0.dev0,>=1.56.2 in c:\\newdownload\\lib\\site-packages (from google-api-core!=2.0.*,!=2.1.*,!=2.2.*,!=2.3.0,<3.0.0.dev0,>=1.31.5->google-api-python-client>=1.12.1->earthengine-api>=1.0.0->geemap) (1.66.0)\n",
      "Requirement already satisfied: protobuf!=3.20.0,!=3.20.1,!=4.21.0,!=4.21.1,!=4.21.2,!=4.21.3,!=4.21.4,!=4.21.5,<6.0.0.dev0,>=3.19.5 in c:\\newdownload\\lib\\site-packages (from google-api-core!=2.0.*,!=2.1.*,!=2.2.*,!=2.3.0,<3.0.0.dev0,>=1.31.5->google-api-python-client>=1.12.1->earthengine-api>=1.0.0->geemap) (4.25.3)\n",
      "Requirement already satisfied: proto-plus<2.0.0dev,>=1.22.3 in c:\\newdownload\\lib\\site-packages (from google-api-core!=2.0.*,!=2.1.*,!=2.2.*,!=2.3.0,<3.0.0.dev0,>=1.31.5->google-api-python-client>=1.12.1->earthengine-api>=1.0.0->geemap) (1.26.0)\n",
      "Requirement already satisfied: jedi>=0.16 in c:\\newdownload\\lib\\site-packages (from ipython>=6.1.0->ipywidgets->ipyfilechooser>=0.6.0->geemap) (0.19.1)\n",
      "Requirement already satisfied: matplotlib-inline in c:\\newdownload\\lib\\site-packages (from ipython>=6.1.0->ipywidgets->ipyfilechooser>=0.6.0->geemap) (0.1.6)\n",
      "Requirement already satisfied: prompt-toolkit<3.1.0,>=3.0.41 in c:\\newdownload\\lib\\site-packages (from ipython>=6.1.0->ipywidgets->ipyfilechooser>=0.6.0->geemap) (3.0.43)\n",
      "Requirement already satisfied: pygments>=2.4.0 in c:\\newdownload\\lib\\site-packages (from ipython>=6.1.0->ipywidgets->ipyfilechooser>=0.6.0->geemap) (2.15.1)\n",
      "Requirement already satisfied: stack-data in c:\\newdownload\\lib\\site-packages (from ipython>=6.1.0->ipywidgets->ipyfilechooser>=0.6.0->geemap) (0.2.0)\n",
      "Requirement already satisfied: pyasn1<0.5.0,>=0.4.6 in c:\\newdownload\\lib\\site-packages (from pyasn1-modules>=0.2.1->google-auth>=1.4.1->earthengine-api>=1.0.0->geemap) (0.4.8)\n",
      "Requirement already satisfied: parso<0.9.0,>=0.8.3 in c:\\newdownload\\lib\\site-packages (from jedi>=0.16->ipython>=6.1.0->ipywidgets->ipyfilechooser>=0.6.0->geemap) (0.8.3)\n",
      "Requirement already satisfied: wcwidth in c:\\newdownload\\lib\\site-packages (from prompt-toolkit<3.1.0,>=3.0.41->ipython>=6.1.0->ipywidgets->ipyfilechooser>=0.6.0->geemap) (0.2.5)\n",
      "Requirement already satisfied: executing in c:\\newdownload\\lib\\site-packages (from stack-data->ipython>=6.1.0->ipywidgets->ipyfilechooser>=0.6.0->geemap) (0.8.3)\n",
      "Requirement already satisfied: asttokens in c:\\newdownload\\lib\\site-packages (from stack-data->ipython>=6.1.0->ipywidgets->ipyfilechooser>=0.6.0->geemap) (2.0.5)\n",
      "Requirement already satisfied: pure-eval in c:\\newdownload\\lib\\site-packages (from stack-data->ipython>=6.1.0->ipywidgets->ipyfilechooser>=0.6.0->geemap) (0.2.2)\n",
      "Note: you may need to restart the kernel to use updated packages.\n"
     ]
    },
    {
     "name": "stderr",
     "output_type": "stream",
     "text": [
      "WARNING: Ignoring invalid distribution ~ympy (C:\\NewDownload\\Lib\\site-packages)\n",
      "WARNING: Ignoring invalid distribution ~ympy (C:\\NewDownload\\Lib\\site-packages)\n",
      "WARNING: Ignoring invalid distribution ~ympy (C:\\NewDownload\\Lib\\site-packages)\n"
     ]
    }
   ],
   "source": [
    "pip install geemap"
   ]
  },
  {
   "cell_type": "code",
   "execution_count": 4,
   "id": "b1241c97-84dc-4369-9bd0-1f51b773820b",
   "metadata": {},
   "outputs": [
    {
     "data": {
      "text/plain": [
       "('utils.py', <http.client.HTTPMessage at 0x1e458b54a10>)"
      ]
     },
     "execution_count": 4,
     "metadata": {},
     "output_type": "execute_result"
    }
   ],
   "source": [
    "import urllib.request\n",
    "url = \"https://raw.githubusercontent.com/nitinmagima/endofseasonmonitoring_madagascar/refs/heads/main/utils.py\"\n",
    "urllib.request.urlretrieve(url, \"utils.py\")"
   ]
  },
  {
   "cell_type": "markdown",
   "id": "bf00fdec-7c7d-4736-b125-95bd81914ca3",
   "metadata": {},
   "source": [
    "import ee\n",
    "import geemap\n",
    "import utils as u\n",
    "from IPython.display import HTML, Markdown, display\n",
    "import pandas as pd\n",
    "import matplotlib.pyplot as plt\n",
    "import seaborn as sns\n",
    "ee.Authenticate()\n",
    "ee.Initialize(project=\"ee-mp4409\")"
   ]
  },
  {
   "cell_type": "markdown",
   "id": "6800f547-eb12-4b29-90d6-3bf1baef9b37",
   "metadata": {},
   "source": [
    "## Initialize Map"
   ]
  },
  {
   "cell_type": "code",
   "execution_count": 7,
   "id": "f3c474f7-d6f3-4002-9a3e-3b9638067be9",
   "metadata": {},
   "outputs": [],
   "source": [
    "import ee\n",
    "import geemap\n",
    "import utils as u\n",
    "from IPython.display import HTML, Markdown, display\n",
    "import pandas as pd\n",
    "import matplotlib.pyplot as plt\n",
    "import seaborn as sns\n",
    "import datetime"
   ]
  },
  {
   "cell_type": "code",
   "execution_count": 8,
   "id": "a052f6f0-0a6b-48db-8354-2bd5bb717da0",
   "metadata": {},
   "outputs": [
    {
     "data": {
      "text/html": [
       "\n",
       "            <style>\n",
       "                .geemap-dark {\n",
       "                    --jp-widgets-color: white;\n",
       "                    --jp-widgets-label-color: white;\n",
       "                    --jp-ui-font-color1: white;\n",
       "                    --jp-layout-color2: #454545;\n",
       "                    background-color: #383838;\n",
       "                }\n",
       "\n",
       "                .geemap-dark .jupyter-button {\n",
       "                    --jp-layout-color3: #383838;\n",
       "                }\n",
       "\n",
       "                .geemap-colab {\n",
       "                    background-color: var(--colab-primary-surface-color, white);\n",
       "                }\n",
       "\n",
       "                .geemap-colab .jupyter-button {\n",
       "                    --jp-layout-color3: var(--colab-primary-surface-color, white);\n",
       "                }\n",
       "            </style>\n",
       "            "
      ],
      "text/plain": [
       "<IPython.core.display.HTML object>"
      ]
     },
     "metadata": {},
     "output_type": "display_data"
    },
    {
     "data": {
      "application/vnd.jupyter.widget-view+json": {
       "model_id": "e3d996323bad488083f3b94b519a1aa8",
       "version_major": 2,
       "version_minor": 0
      },
      "text/plain": [
       "Map(center=[20, -10], controls=(WidgetControl(options=['position', 'transparent_bg'], widget=SearchDataGUI(chi…"
      ]
     },
     "execution_count": 8,
     "metadata": {},
     "output_type": "execute_result"
    }
   ],
   "source": [
    "m = geemap.Map(basemap='Esri.WorldTopoMap')\n",
    "m.setCenter(-10, 20, 5)\n",
    "m"
   ]
  },
  {
   "cell_type": "code",
   "execution_count": 9,
   "id": "beebfa1c-9158-4fe1-87b8-fe4b33dcdb52",
   "metadata": {},
   "outputs": [
    {
     "data": {
      "text/html": [
       "\n",
       "            <style>\n",
       "                .geemap-dark {\n",
       "                    --jp-widgets-color: white;\n",
       "                    --jp-widgets-label-color: white;\n",
       "                    --jp-ui-font-color1: white;\n",
       "                    --jp-layout-color2: #454545;\n",
       "                    background-color: #383838;\n",
       "                }\n",
       "\n",
       "                .geemap-dark .jupyter-button {\n",
       "                    --jp-layout-color3: #383838;\n",
       "                }\n",
       "\n",
       "                .geemap-colab {\n",
       "                    background-color: var(--colab-primary-surface-color, white);\n",
       "                }\n",
       "\n",
       "                .geemap-colab .jupyter-button {\n",
       "                    --jp-layout-color3: var(--colab-primary-surface-color, white);\n",
       "                }\n",
       "            </style>\n",
       "            "
      ],
      "text/plain": [
       "<IPython.core.display.HTML object>"
      ]
     },
     "metadata": {},
     "output_type": "display_data"
    }
   ],
   "source": [
    "country_name = 'Mauritania'\n",
    "admin_level = 'level0'"
   ]
  },
  {
   "cell_type": "code",
   "execution_count": 10,
   "id": "f8fe20ed-7357-4fd6-99cd-b9f9c61d0455",
   "metadata": {},
   "outputs": [
    {
     "data": {
      "text/html": [
       "\n",
       "            <style>\n",
       "                .geemap-dark {\n",
       "                    --jp-widgets-color: white;\n",
       "                    --jp-widgets-label-color: white;\n",
       "                    --jp-ui-font-color1: white;\n",
       "                    --jp-layout-color2: #454545;\n",
       "                    background-color: #383838;\n",
       "                }\n",
       "\n",
       "                .geemap-dark .jupyter-button {\n",
       "                    --jp-layout-color3: #383838;\n",
       "                }\n",
       "\n",
       "                .geemap-colab {\n",
       "                    background-color: var(--colab-primary-surface-color, white);\n",
       "                }\n",
       "\n",
       "                .geemap-colab .jupyter-button {\n",
       "                    --jp-layout-color3: var(--colab-primary-surface-color, white);\n",
       "                }\n",
       "            </style>\n",
       "            "
      ],
      "text/plain": [
       "<IPython.core.display.HTML object>"
      ]
     },
     "metadata": {},
     "output_type": "display_data"
    },
    {
     "name": "stdout",
     "output_type": "stream",
     "text": [
      "ROI type: FeatureCollection\n"
     ]
    }
   ],
   "source": [
    "roi = m.user_roi\n",
    "\n",
    "if roi is None:\n",
    "    roi = ee.FeatureCollection(f\"FAO/GAUL/2015/{admin_level}\")\n",
    "    roi = roi.filter(ee.Filter.eq('ADM0_NAME', country_name))\n",
    "    styleParams = {\n",
    "        'fillColor': 'b5ffb4',\n",
    "        'color': '00909F',\n",
    "        'width': 1.0,\n",
    "    }\n",
    "    styleRoi = roi.style(**styleParams)\n",
    "    m.addLayer(styleRoi, {}, country_name)\n",
    "print('ROI type:', roi.getInfo()['type'])\n"
   ]
  },
  {
   "cell_type": "code",
   "execution_count": 11,
   "id": "0bf7bdff-7b8e-4b1c-87a6-ecfa6a1bb6a1",
   "metadata": {},
   "outputs": [
    {
     "data": {
      "text/html": [
       "\n",
       "            <style>\n",
       "                .geemap-dark {\n",
       "                    --jp-widgets-color: white;\n",
       "                    --jp-widgets-label-color: white;\n",
       "                    --jp-ui-font-color1: white;\n",
       "                    --jp-layout-color2: #454545;\n",
       "                    background-color: #383838;\n",
       "                }\n",
       "\n",
       "                .geemap-dark .jupyter-button {\n",
       "                    --jp-layout-color3: #383838;\n",
       "                }\n",
       "\n",
       "                .geemap-colab {\n",
       "                    background-color: var(--colab-primary-surface-color, white);\n",
       "                }\n",
       "\n",
       "                .geemap-colab .jupyter-button {\n",
       "                    --jp-layout-color3: var(--colab-primary-surface-color, white);\n",
       "                }\n",
       "            </style>\n",
       "            "
      ],
      "text/plain": [
       "<IPython.core.display.HTML object>"
      ]
     },
     "metadata": {},
     "output_type": "display_data"
    },
    {
     "name": "stderr",
     "output_type": "stream",
     "text": [
      "C:\\NewDownload\\Lib\\site-packages\\ee\\deprecation.py:207: DeprecationWarning: \n",
      "\n",
      "Attention required for NOAA/VIIRS/001/VNP13A1! You are using a deprecated asset.\n",
      "To make sure your code keeps working, please update it.\n",
      "Learn more: https://developers.google.com/earth-engine/datasets/catalog/NOAA_VIIRS_001_VNP13A1\n",
      "\n",
      "  warnings.warn(warning, category=DeprecationWarning)\n"
     ]
    }
   ],
   "source": [
    "viirs = ee.ImageCollection('NOAA/VIIRS/001/VNP13A1')\n",
    "evi_band = 'EVI'\n",
    "ndvi_band = 'NDVI'\n",
    "selected_bands = viirs.select([evi_band, ndvi_band])\n",
    "selected_bands = selected_bands.filterBounds(roi)"
   ]
  },
  {
   "cell_type": "code",
   "execution_count": 12,
   "id": "a6c119d6-e8cd-49d7-9f1f-347fafc50d4c",
   "metadata": {},
   "outputs": [
    {
     "data": {
      "text/html": [
       "\n",
       "            <style>\n",
       "                .geemap-dark {\n",
       "                    --jp-widgets-color: white;\n",
       "                    --jp-widgets-label-color: white;\n",
       "                    --jp-ui-font-color1: white;\n",
       "                    --jp-layout-color2: #454545;\n",
       "                    background-color: #383838;\n",
       "                }\n",
       "\n",
       "                .geemap-dark .jupyter-button {\n",
       "                    --jp-layout-color3: #383838;\n",
       "                }\n",
       "\n",
       "                .geemap-colab {\n",
       "                    background-color: var(--colab-primary-surface-color, white);\n",
       "                }\n",
       "\n",
       "                .geemap-colab .jupyter-button {\n",
       "                    --jp-layout-color3: var(--colab-primary-surface-color, white);\n",
       "                }\n",
       "            </style>\n",
       "            "
      ],
      "text/plain": [
       "<IPython.core.display.HTML object>"
      ]
     },
     "metadata": {},
     "output_type": "display_data"
    }
   ],
   "source": [
    "chirps = ee.ImageCollection(\"UCSB-CHG/CHIRPS/DAILY\")\n",
    "spimonthlyvis = {\"opacity\":1,\"bands\":[\"SPI\"],\"min\":-4,\"max\":4,\"palette\":[\"d53e4f\",\"fc8d59\",\"fee08b\",\"ffffbf\",\"e6f598\",\"99d594\",\"3288bd\"]}\n",
    "spi16dayvis = {\"opacity\":1,\"bands\":[\"SPI_16Days\"],\"min\":-4,\"max\":4,\"palette\":[\"d53e4f\",\"fc8d59\",\"fee08b\",\"ffffbf\",\"e6f598\",\"99d594\",\"3288bd\"]}"
   ]
  },
  {
   "cell_type": "markdown",
   "id": "b2ff3d4b-bf54-4e39-a806-624079818e4f",
   "metadata": {},
   "source": [
    "### Set Time Frame"
   ]
  },
  {
   "cell_type": "code",
   "execution_count": 14,
   "id": "1340d41f-c2f7-4cb9-8b61-793bf594fe64",
   "metadata": {},
   "outputs": [
    {
     "data": {
      "text/html": [
       "\n",
       "            <style>\n",
       "                .geemap-dark {\n",
       "                    --jp-widgets-color: white;\n",
       "                    --jp-widgets-label-color: white;\n",
       "                    --jp-ui-font-color1: white;\n",
       "                    --jp-layout-color2: #454545;\n",
       "                    background-color: #383838;\n",
       "                }\n",
       "\n",
       "                .geemap-dark .jupyter-button {\n",
       "                    --jp-layout-color3: #383838;\n",
       "                }\n",
       "\n",
       "                .geemap-colab {\n",
       "                    background-color: var(--colab-primary-surface-color, white);\n",
       "                }\n",
       "\n",
       "                .geemap-colab .jupyter-button {\n",
       "                    --jp-layout-color3: var(--colab-primary-surface-color, white);\n",
       "                }\n",
       "            </style>\n",
       "            "
      ],
      "text/plain": [
       "<IPython.core.display.HTML object>"
      ]
     },
     "metadata": {},
     "output_type": "display_data"
    }
   ],
   "source": [
    "firstimage = ee.Date(ee.List(chirps.get('date_range')).get(0))\n",
    "latestimage = ee.Date(chirps.limit(1, 'system:time_start',  False).first().get('system:time_start'))"
   ]
  },
  {
   "cell_type": "markdown",
   "id": "b2944a02-125a-4537-8d13-fd7af1f3798e",
   "metadata": {},
   "source": [
    "### Set Resolution"
   ]
  },
  {
   "cell_type": "code",
   "execution_count": 16,
   "id": "eff75217-077d-494c-9ef4-ddfff1ffac61",
   "metadata": {},
   "outputs": [
    {
     "data": {
      "text/html": [
       "\n",
       "            <style>\n",
       "                .geemap-dark {\n",
       "                    --jp-widgets-color: white;\n",
       "                    --jp-widgets-label-color: white;\n",
       "                    --jp-ui-font-color1: white;\n",
       "                    --jp-layout-color2: #454545;\n",
       "                    background-color: #383838;\n",
       "                }\n",
       "\n",
       "                .geemap-dark .jupyter-button {\n",
       "                    --jp-layout-color3: #383838;\n",
       "                }\n",
       "\n",
       "                .geemap-colab {\n",
       "                    background-color: var(--colab-primary-surface-color, white);\n",
       "                }\n",
       "\n",
       "                .geemap-colab .jupyter-button {\n",
       "                    --jp-layout-color3: var(--colab-primary-surface-color, white);\n",
       "                }\n",
       "            </style>\n",
       "            "
      ],
      "text/plain": [
       "<IPython.core.display.HTML object>"
      ]
     },
     "metadata": {},
     "output_type": "display_data"
    }
   ],
   "source": [
    "resolution = 5550"
   ]
  },
  {
   "cell_type": "markdown",
   "id": "430b6faa-d7f2-444c-9dc4-845d8dd07316",
   "metadata": {},
   "source": [
    "### Set Time Scale Information For SPI\n",
    "##### Assess the precipitation anomaly over a specific period. The time scale determines how many months' worth of precipitation you want to include in the calculation of the SPI."
   ]
  },
  {
   "cell_type": "code",
   "execution_count": 18,
   "id": "6cddb1d1-2a90-4a52-acf5-e8c49ede6129",
   "metadata": {},
   "outputs": [
    {
     "data": {
      "text/html": [
       "\n",
       "            <style>\n",
       "                .geemap-dark {\n",
       "                    --jp-widgets-color: white;\n",
       "                    --jp-widgets-label-color: white;\n",
       "                    --jp-ui-font-color1: white;\n",
       "                    --jp-layout-color2: #454545;\n",
       "                    background-color: #383838;\n",
       "                }\n",
       "\n",
       "                .geemap-dark .jupyter-button {\n",
       "                    --jp-layout-color3: #383838;\n",
       "                }\n",
       "\n",
       "                .geemap-colab {\n",
       "                    background-color: var(--colab-primary-surface-color, white);\n",
       "                }\n",
       "\n",
       "                .geemap-colab .jupyter-button {\n",
       "                    --jp-layout-color3: var(--colab-primary-surface-color, white);\n",
       "                }\n",
       "            </style>\n",
       "            "
      ],
      "text/plain": [
       "<IPython.core.display.HTML object>"
      ]
     },
     "metadata": {},
     "output_type": "display_data"
    }
   ],
   "source": [
    "timestep = '1'"
   ]
  },
  {
   "cell_type": "markdown",
   "id": "2d062a8d-f3b5-4c1e-b3fd-4b012cc5d093",
   "metadata": {},
   "source": [
    "### Set Time Shift For VIIRS Related SPI\n",
    "##### - For example, a shift = -5 would mean that the SPI for a given period is calculated 5 days before the VIIRS data start date and finishes 5 days earlier than the VIIRS data end date.\n",
    "##### - The days = '16' represents the 16-day period over which the SPI is calculated. This is aligned with the frequency of the VIIRS data (which is also provided on a 16-day interval). This gives you the exact window for which the SPI is calculated."
   ]
  },
  {
   "cell_type": "code",
   "execution_count": 20,
   "id": "bb01cc57-cd19-4c49-99c1-c610316e0304",
   "metadata": {},
   "outputs": [
    {
     "data": {
      "text/html": [
       "\n",
       "            <style>\n",
       "                .geemap-dark {\n",
       "                    --jp-widgets-color: white;\n",
       "                    --jp-widgets-label-color: white;\n",
       "                    --jp-ui-font-color1: white;\n",
       "                    --jp-layout-color2: #454545;\n",
       "                    background-color: #383838;\n",
       "                }\n",
       "\n",
       "                .geemap-dark .jupyter-button {\n",
       "                    --jp-layout-color3: #383838;\n",
       "                }\n",
       "\n",
       "                .geemap-colab {\n",
       "                    background-color: var(--colab-primary-surface-color, white);\n",
       "                }\n",
       "\n",
       "                .geemap-colab .jupyter-button {\n",
       "                    --jp-layout-color3: var(--colab-primary-surface-color, white);\n",
       "                }\n",
       "            </style>\n",
       "            "
      ],
      "text/plain": [
       "<IPython.core.display.HTML object>"
      ]
     },
     "metadata": {},
     "output_type": "display_data"
    }
   ],
   "source": [
    "shift = '0'\n",
    "days = '16'"
   ]
  },
  {
   "cell_type": "markdown",
   "id": "3886667d-7333-497e-a2b3-9a4cc03278d7",
   "metadata": {},
   "source": [
    "### SPI Calculations"
   ]
  },
  {
   "cell_type": "code",
   "execution_count": 22,
   "id": "0d604e84-3c87-4062-939f-b1a2f5b18df5",
   "metadata": {},
   "outputs": [
    {
     "data": {
      "text/html": [
       "\n",
       "            <style>\n",
       "                .geemap-dark {\n",
       "                    --jp-widgets-color: white;\n",
       "                    --jp-widgets-label-color: white;\n",
       "                    --jp-ui-font-color1: white;\n",
       "                    --jp-layout-color2: #454545;\n",
       "                    background-color: #383838;\n",
       "                }\n",
       "\n",
       "                .geemap-dark .jupyter-button {\n",
       "                    --jp-layout-color3: #383838;\n",
       "                }\n",
       "\n",
       "                .geemap-colab {\n",
       "                    background-color: var(--colab-primary-surface-color, white);\n",
       "                }\n",
       "\n",
       "                .geemap-colab .jupyter-button {\n",
       "                    --jp-layout-color3: var(--colab-primary-surface-color, white);\n",
       "                }\n",
       "            </style>\n",
       "            "
      ],
      "text/plain": [
       "<IPython.core.display.HTML object>"
      ]
     },
     "metadata": {},
     "output_type": "display_data"
    }
   ],
   "source": [
    "thresholdsmonths = ee.Number(12)"
   ]
  },
  {
   "cell_type": "code",
   "execution_count": 23,
   "id": "9501b554-0fda-4365-8c94-e2e20fd36e85",
   "metadata": {},
   "outputs": [
    {
     "data": {
      "text/html": [
       "\n",
       "            <style>\n",
       "                .geemap-dark {\n",
       "                    --jp-widgets-color: white;\n",
       "                    --jp-widgets-label-color: white;\n",
       "                    --jp-ui-font-color1: white;\n",
       "                    --jp-layout-color2: #454545;\n",
       "                    background-color: #383838;\n",
       "                }\n",
       "\n",
       "                .geemap-dark .jupyter-button {\n",
       "                    --jp-layout-color3: #383838;\n",
       "                }\n",
       "\n",
       "                .geemap-colab {\n",
       "                    background-color: var(--colab-primary-surface-color, white);\n",
       "                }\n",
       "\n",
       "                .geemap-colab .jupyter-button {\n",
       "                    --jp-layout-color3: var(--colab-primary-surface-color, white);\n",
       "                }\n",
       "            </style>\n",
       "            "
      ],
      "text/plain": [
       "<IPython.core.display.HTML object>"
      ]
     },
     "metadata": {},
     "output_type": "display_data"
    }
   ],
   "source": [
    "timedif = (latestimage.difference(firstimage, 'month')).divide(ee.Number.parse(timestep))"
   ]
  },
  {
   "cell_type": "code",
   "execution_count": 24,
   "id": "53893fb2-d2ec-4e50-897d-da501f1af1d4",
   "metadata": {},
   "outputs": [
    {
     "data": {
      "text/html": [
       "\n",
       "            <style>\n",
       "                .geemap-dark {\n",
       "                    --jp-widgets-color: white;\n",
       "                    --jp-widgets-label-color: white;\n",
       "                    --jp-ui-font-color1: white;\n",
       "                    --jp-layout-color2: #454545;\n",
       "                    background-color: #383838;\n",
       "                }\n",
       "\n",
       "                .geemap-dark .jupyter-button {\n",
       "                    --jp-layout-color3: #383838;\n",
       "                }\n",
       "\n",
       "                .geemap-colab {\n",
       "                    background-color: var(--colab-primary-surface-color, white);\n",
       "                }\n",
       "\n",
       "                .geemap-colab .jupyter-button {\n",
       "                    --jp-layout-color3: var(--colab-primary-surface-color, white);\n",
       "                }\n",
       "            </style>\n",
       "            "
      ],
      "text/plain": [
       "<IPython.core.display.HTML object>"
      ]
     },
     "metadata": {},
     "output_type": "display_data"
    }
   ],
   "source": [
    "list = ee.List.sequence(0, timedif)"
   ]
  },
  {
   "cell_type": "code",
   "execution_count": 25,
   "id": "5670e28f-e38b-4b58-9100-ba829d7481c7",
   "metadata": {},
   "outputs": [
    {
     "data": {
      "text/html": [
       "\n",
       "            <style>\n",
       "                .geemap-dark {\n",
       "                    --jp-widgets-color: white;\n",
       "                    --jp-widgets-label-color: white;\n",
       "                    --jp-ui-font-color1: white;\n",
       "                    --jp-layout-color2: #454545;\n",
       "                    background-color: #383838;\n",
       "                }\n",
       "\n",
       "                .geemap-dark .jupyter-button {\n",
       "                    --jp-layout-color3: #383838;\n",
       "                }\n",
       "\n",
       "                .geemap-colab {\n",
       "                    background-color: var(--colab-primary-surface-color, white);\n",
       "                }\n",
       "\n",
       "                .geemap-colab .jupyter-button {\n",
       "                    --jp-layout-color3: var(--colab-primary-surface-color, white);\n",
       "                }\n",
       "            </style>\n",
       "            "
      ],
      "text/plain": [
       "<IPython.core.display.HTML object>"
      ]
     },
     "metadata": {},
     "output_type": "display_data"
    }
   ],
   "source": [
    "def func_gou(month):\n",
    "    zero = ee.Number(0)\n",
    "    delta = (zero.subtract(month)).multiply(ee.Number.parse(timestep))\n",
    "    # amount：表示你希望推进的数量，可以是一个正数或负数。正数表示将日期推进，负数表示将日期向回推。\n",
    "    latestdate = latestimage.advance(1, 'day')\n",
    "    return latestdate.advance(delta, 'month')\n",
    "\n",
    "timelistdate = list.map(func_gou)"
   ]
  },
  {
   "cell_type": "code",
   "execution_count": 26,
   "id": "c5ef876d-eb50-4b1d-b029-0c6d8f8bce1e",
   "metadata": {},
   "outputs": [
    {
     "data": {
      "text/html": [
       "\n",
       "            <style>\n",
       "                .geemap-dark {\n",
       "                    --jp-widgets-color: white;\n",
       "                    --jp-widgets-label-color: white;\n",
       "                    --jp-ui-font-color1: white;\n",
       "                    --jp-layout-color2: #454545;\n",
       "                    background-color: #383838;\n",
       "                }\n",
       "\n",
       "                .geemap-dark .jupyter-button {\n",
       "                    --jp-layout-color3: #383838;\n",
       "                }\n",
       "\n",
       "                .geemap-colab {\n",
       "                    background-color: var(--colab-primary-surface-color, white);\n",
       "                }\n",
       "\n",
       "                .geemap-colab .jupyter-button {\n",
       "                    --jp-layout-color3: var(--colab-primary-surface-color, white);\n",
       "                }\n",
       "            </style>\n",
       "            "
      ],
      "text/plain": [
       "<IPython.core.display.HTML object>"
      ]
     },
     "metadata": {},
     "output_type": "display_data"
    }
   ],
   "source": [
    "sortedtimelist = timelistdate.sort()"
   ]
  },
  {
   "cell_type": "code",
   "execution_count": 27,
   "id": "cec9dd77-b369-47d0-a75e-d8289ec3ea75",
   "metadata": {},
   "outputs": [
    {
     "data": {
      "text/html": [
       "\n",
       "            <style>\n",
       "                .geemap-dark {\n",
       "                    --jp-widgets-color: white;\n",
       "                    --jp-widgets-label-color: white;\n",
       "                    --jp-ui-font-color1: white;\n",
       "                    --jp-layout-color2: #454545;\n",
       "                    background-color: #383838;\n",
       "                }\n",
       "\n",
       "                .geemap-dark .jupyter-button {\n",
       "                    --jp-layout-color3: #383838;\n",
       "                }\n",
       "\n",
       "                .geemap-colab {\n",
       "                    background-color: var(--colab-primary-surface-color, white);\n",
       "                }\n",
       "\n",
       "                .geemap-colab .jupyter-button {\n",
       "                    --jp-layout-color3: var(--colab-primary-surface-color, white);\n",
       "                }\n",
       "            </style>\n",
       "            "
      ],
      "text/plain": [
       "<IPython.core.display.HTML object>"
      ]
     },
     "metadata": {},
     "output_type": "display_data"
    }
   ],
   "source": [
    "def func_fxo(monthly_sum):\n",
    "    timestep_num = ee.Number.parse(timestep)\n",
    "    starttime = ee.Date(monthly_sum).advance(timestep_num.multiply(-1), 'month')\n",
    "    endtime = ee.Date(monthly_sum)\n",
    "    filteredCHIRPS = chirps.filterDate(starttime, endtime)\n",
    "    clippedCHIRPS = filteredCHIRPS.map(lambda clip:clip.clip(roi))\n",
    "    imageAmount = clippedCHIRPS.size()\n",
    "    summedCollection = clippedCHIRPS.sum().set({\n",
    "        'Used_Images': imageAmount,\n",
    "        'Start_Date': ee.Date(filteredCHIRPS.first().get('system:time_start')),\n",
    "        'End_Date': ee.Date(filteredCHIRPS.sort('system:time_end', False).first().get('system:time_end')),\n",
    "        'system:time_start': filteredCHIRPS.first().get('system:time_start'),\n",
    "        'system:time_end': filteredCHIRPS.sort('system:time_end', False).first().get('system:time_end')\n",
    "    })\n",
    "    time = ee.Date(summedCollection.get('system:time_end')).difference(ee.Date(summedCollection.get('system:time_start')), 'month').round()\n",
    "    \n",
    "    summedImage = summedCollection.set({\n",
    "        'Observed_Months': time\n",
    "    })\n",
    "    \n",
    "    return ee.Image(ee.Algorithms.If(time.gte(timestep_num), summedImage))\n",
    "\n",
    "precipitationsum = ee.ImageCollection.fromImages(ee.List(timelistdate).map(func_fxo))"
   ]
  },
  {
   "cell_type": "code",
   "execution_count": 28,
   "id": "07cedef7-3c7d-4df9-b72d-bbf3f6a6a505",
   "metadata": {},
   "outputs": [
    {
     "data": {
      "text/html": [
       "\n",
       "            <style>\n",
       "                .geemap-dark {\n",
       "                    --jp-widgets-color: white;\n",
       "                    --jp-widgets-label-color: white;\n",
       "                    --jp-ui-font-color1: white;\n",
       "                    --jp-layout-color2: #454545;\n",
       "                    background-color: #383838;\n",
       "                }\n",
       "\n",
       "                .geemap-dark .jupyter-button {\n",
       "                    --jp-layout-color3: #383838;\n",
       "                }\n",
       "\n",
       "                .geemap-colab {\n",
       "                    background-color: var(--colab-primary-surface-color, white);\n",
       "                }\n",
       "\n",
       "                .geemap-colab .jupyter-button {\n",
       "                    --jp-layout-color3: var(--colab-primary-surface-color, white);\n",
       "                }\n",
       "            </style>\n",
       "            "
      ],
      "text/plain": [
       "<IPython.core.display.HTML object>"
      ]
     },
     "metadata": {},
     "output_type": "display_data"
    }
   ],
   "source": [
    "summedchirpscollection = precipitationsum.map(lambda img: img.copyProperties(chirps))"
   ]
  },
  {
   "cell_type": "code",
   "execution_count": 29,
   "id": "eb9d5960-6d5a-48b9-b203-8cff9fded0f1",
   "metadata": {},
   "outputs": [
    {
     "data": {
      "text/html": [
       "\n",
       "            <style>\n",
       "                .geemap-dark {\n",
       "                    --jp-widgets-color: white;\n",
       "                    --jp-widgets-label-color: white;\n",
       "                    --jp-ui-font-color1: white;\n",
       "                    --jp-layout-color2: #454545;\n",
       "                    background-color: #383838;\n",
       "                }\n",
       "\n",
       "                .geemap-dark .jupyter-button {\n",
       "                    --jp-layout-color3: #383838;\n",
       "                }\n",
       "\n",
       "                .geemap-colab {\n",
       "                    background-color: var(--colab-primary-surface-color, white);\n",
       "                }\n",
       "\n",
       "                .geemap-colab .jupyter-button {\n",
       "                    --jp-layout-color3: var(--colab-primary-surface-color, white);\n",
       "                }\n",
       "            </style>\n",
       "            "
      ],
      "text/plain": [
       "<IPython.core.display.HTML object>"
      ]
     },
     "metadata": {},
     "output_type": "display_data"
    },
    {
     "name": "stdout",
     "output_type": "stream",
     "text": [
      "{'type': 'Image', 'bands': [{'id': 'precipitation', 'data_type': {'type': 'PixelType', 'precision': 'double'}, 'crs': 'EPSG:4326', 'crs_transform': [1, 0, 0, 0, 1, 0]}], 'properties': {'date_range': [347155200000, 1646006400000], 'period_mapping': [347155200000, 1646006400000], 'type_name': 'ImageCollection', 'period': 1, 'keywords': ['chg', 'climate', 'geophysical', 'precipitation', 'ucsb', 'weather'], 'thumb': 'https://mw1.google.com/ges/dd/images/CHIRPS_thumb.png', 'description': '<p>Climate Hazards Group InfraRed Precipitation with Station data (CHIRPS)\\nis a 30+ year quasi-global rainfall dataset. CHIRPS incorporates\\n0.05° resolution satellite imagery with in-situ station data\\nto create gridded rainfall time series for trend analysis and seasonal\\ndrought monitoring.</p><p><b>Provider: <a href=\"https://chc.ucsb.edu/data/chirps\">UCSB/CHG</a></b><br><p><b>Resolution</b><br>5566 meters\\n</p><p><b>Cadence</b><br>\\n  1 day\\n</p><p><b>Bands</b><table class=\"eecat\"><tr><th scope=\"col\">Name</th><th scope=\"col\">Description</th></tr><tr><td>precipitation</td><td><p>Precipitation</p></td></tr></table><p><b>Terms of Use</b><br><p>This datasets are in the public domain. To the extent possible under law,\\n<a href=\"https://chc.ucsb.edu/people/pete-peterson\">Pete Peterson</a>\\nhas waived all copyright and related or neighboring rights to\\nClimate Hazards Group Infrared Precipitation with Stations (CHIRPS).</p><p><b>Suggested citation(s)</b><ul><li><p>Funk, Chris, Pete Peterson, Martin Landsfeld, Diego Pedreros, James\\nVerdin, Shraddhanand Shukla, Gregory Husak, James Rowland, Laura Harrison,\\nAndrew Hoell &amp; Joel Michaelsen. &quot;The climate hazards infrared precipitation\\nwith stations—a new environmental record for monitoring extremes&quot;.\\nScientific Data 2, 150066. <a href=\"https://doi.org/10.1038/sdata.2015.66\">doi:10.1038/sdata.2015.66</a>\\n2015.</p></li></ul><style>\\n  table.eecat {\\n  border: 1px solid black;\\n  border-collapse: collapse;\\n  font-size: 13px;\\n  }\\n  table.eecat td, tr, th {\\n  text-align: left; vertical-align: top;\\n  border: 1px solid gray; padding: 3px;\\n  }\\n  td.nobreak { white-space: nowrap; }\\n</style>', 'source_tags': ['ucsb', 'chg'], 'visualization_0_max': '17.0', 'provider_url': 'https://chc.ucsb.edu/data/chirps', 'title': 'CHIRPS Daily: Climate Hazards Group InfraRed Precipitation With Station Data (Version 2.0 Final)', 'sample': 'https://mw1.google.com/ges/dd/images/CHIRPS_sample.png', 'tags': ['chg', 'climate', 'geophysical', 'precipitation', 'ucsb', 'weather'], 'Observed_Months': 1, 'product_tags': ['precipitation', 'climate', 'weather', 'geophysical'], 'visualization_0_palette': '001137,0aab1e,e7eb05,ff4a2d,e90000', 'provider': 'UCSB/CHG', 'visualization_0_min': '1.0', 'visualization_0_name': 'Precipitation', 'system:index': '0', 'visualization_0_bands': 'precipitation', 'system:time_start': 1735689600000, 'system:time_end': 1738368000000, 'Used_Images': 31, 'Start_Date': {'type': 'Date', 'value': 1735689600000}, 'End_Date': {'type': 'Date', 'value': 1738368000000}}}\n"
     ]
    }
   ],
   "source": [
    "first_image = summedchirpscollection.first().getInfo()\n",
    "print(first_image)"
   ]
  },
  {
   "cell_type": "code",
   "execution_count": 30,
   "id": "9e208393-ac40-42e7-9911-c7a3eb0f9233",
   "metadata": {},
   "outputs": [
    {
     "data": {
      "text/html": [
       "\n",
       "            <style>\n",
       "                .geemap-dark {\n",
       "                    --jp-widgets-color: white;\n",
       "                    --jp-widgets-label-color: white;\n",
       "                    --jp-ui-font-color1: white;\n",
       "                    --jp-layout-color2: #454545;\n",
       "                    background-color: #383838;\n",
       "                }\n",
       "\n",
       "                .geemap-dark .jupyter-button {\n",
       "                    --jp-layout-color3: #383838;\n",
       "                }\n",
       "\n",
       "                .geemap-colab {\n",
       "                    background-color: var(--colab-primary-surface-color, white);\n",
       "                }\n",
       "\n",
       "                .geemap-colab .jupyter-button {\n",
       "                    --jp-layout-color3: var(--colab-primary-surface-color, white);\n",
       "                }\n",
       "            </style>\n",
       "            "
      ],
      "text/plain": [
       "<IPython.core.display.HTML object>"
      ]
     },
     "metadata": {},
     "output_type": "display_data"
    }
   ],
   "source": [
    "# SPI = P(accumulated precipitation within a period)-μ(longterm average)/σ(sd of this period), negative means below average, vise versa\n",
    "\n",
    "thresholdmonths = ee.Number(12)  \n",
    "def to_spi(to_spi_img):\n",
    "    band_for_spi = to_spi_img.select(['precipitation'], ['SPI']) # select pre and rename as SPI\n",
    "    calc = to_spi_img.expression(\n",
    "        '(precipitation - mean) / stdDev',\n",
    "        {\n",
    "            'precipitation': band_for_spi,\n",
    "            'mean': to_spi_img.select('precipitation_mean'),\n",
    "            'stdDev': to_spi_img.select('precipitation_stdDev')\n",
    "        }\n",
    "    )\n",
    "    return to_spi_img.addBands(calc)\n",
    "\n",
    "# If the SPI should be calculated for less than 12 months, the DOY information have to be used to find the correct images.\n",
    "\n",
    "def spi_smaller_12():\n",
    "    # Calculate Statistics\n",
    "    def to_stats(to_stats_img):\n",
    "        start_doy = ee.Date(to_stats_img.get('system:time_start')).getRelative('day', 'year')\n",
    "        end_doy = ee.Date(to_stats_img.get('system:time_end')).getRelative('day', 'year')\n",
    "        collection_for_stats = summedchirpscollection \\\n",
    "            .filter(ee.Filter.calendarRange(start_doy, end_doy, 'day_of_year')) \\\n",
    "            .reduce(ee.Reducer.stdDev().combine(ee.Reducer.mean(), None, True))\n",
    "        return to_stats_img.addBands(collection_for_stats)\n",
    "    \n",
    "    stats = summedchirpscollection.map(to_stats)\n",
    "    \n",
    "    spi_1_11 = stats.map(to_spi)\n",
    "    return spi_1_11\n",
    "\n",
    "# If the SPI should be calculated for 12 or more months, the DOY information are not necessary.\n",
    "# However, from 12 months onwards, it is just possible to calculate the SPI for whole years.\n",
    "# Eg. for 24 or 48 months. Calculating an SPI-18 will not work within this script\n",
    "\n",
    "def spi_greater_equal_12():\n",
    "    # Calculate Statistics\n",
    "    def to_stats(to_stats_img):\n",
    "        collection_for_stats = summedchirpscollection \\\n",
    "            .reduce(ee.Reducer.stdDev().combine(ee.Reducer.mean(), None, True))\n",
    "        return to_stats_img.addBands(collection_for_stats)\n",
    "    \n",
    "    stats = summedchirpscollection.map(to_stats)\n",
    "    \n",
    "    spi_12_n = stats.map(to_spi)\n",
    "    return spi_12_n\n",
    "\n",
    "# Decide which approach to use based on the timestep\n",
    "spi = ee.ImageCollection(\n",
    "    ee.Algorithms.If(\n",
    "        ee.Number.parse(timestep).gte(thresholdmonths), # To see if timestep is larger than threshold. I set the step is 1 while threshold is 12\n",
    "        spi_greater_equal_12(),\n",
    "        spi_smaller_12()\n",
    "    )\n",
    ")"
   ]
  },
  {
   "cell_type": "code",
   "execution_count": 31,
   "id": "b8aac5e8-83c6-4f23-832c-59e345140d2f",
   "metadata": {},
   "outputs": [
    {
     "data": {
      "text/html": [
       "\n",
       "            <style>\n",
       "                .geemap-dark {\n",
       "                    --jp-widgets-color: white;\n",
       "                    --jp-widgets-label-color: white;\n",
       "                    --jp-ui-font-color1: white;\n",
       "                    --jp-layout-color2: #454545;\n",
       "                    background-color: #383838;\n",
       "                }\n",
       "\n",
       "                .geemap-dark .jupyter-button {\n",
       "                    --jp-layout-color3: #383838;\n",
       "                }\n",
       "\n",
       "                .geemap-colab {\n",
       "                    background-color: var(--colab-primary-surface-color, white);\n",
       "                }\n",
       "\n",
       "                .geemap-colab .jupyter-button {\n",
       "                    --jp-layout-color3: var(--colab-primary-surface-color, white);\n",
       "                }\n",
       "            </style>\n",
       "            "
      ],
      "text/plain": [
       "<IPython.core.display.HTML object>"
      ]
     },
     "metadata": {},
     "output_type": "display_data"
    },
    {
     "data": {
      "text/plain": [
       "<ee.image.Image at 0x1e45e951d90>"
      ]
     },
     "execution_count": 31,
     "metadata": {},
     "output_type": "execute_result"
    }
   ],
   "source": [
    "spi.first()"
   ]
  },
  {
   "cell_type": "code",
   "execution_count": 32,
   "id": "70fb9837-f376-45af-a5bd-ebf474795e2b",
   "metadata": {},
   "outputs": [
    {
     "data": {
      "text/html": [
       "\n",
       "            <style>\n",
       "                .geemap-dark {\n",
       "                    --jp-widgets-color: white;\n",
       "                    --jp-widgets-label-color: white;\n",
       "                    --jp-ui-font-color1: white;\n",
       "                    --jp-layout-color2: #454545;\n",
       "                    background-color: #383838;\n",
       "                }\n",
       "\n",
       "                .geemap-dark .jupyter-button {\n",
       "                    --jp-layout-color3: #383838;\n",
       "                }\n",
       "\n",
       "                .geemap-colab {\n",
       "                    background-color: var(--colab-primary-surface-color, white);\n",
       "                }\n",
       "\n",
       "                .geemap-colab .jupyter-button {\n",
       "                    --jp-layout-color3: var(--colab-primary-surface-color, white);\n",
       "                }\n",
       "            </style>\n",
       "            "
      ],
      "text/plain": [
       "<IPython.core.display.HTML object>"
      ]
     },
     "metadata": {},
     "output_type": "display_data"
    },
    {
     "data": {
      "application/vnd.jupyter.widget-view+json": {
       "model_id": "3c9a65f640a14e84af757d431be6d0d4",
       "version_major": 2,
       "version_minor": 0
      },
      "text/plain": [
       "Map(center=[20, -10], controls=(WidgetControl(options=['position', 'transparent_bg'], widget=SearchDataGUI(chi…"
      ]
     },
     "execution_count": 32,
     "metadata": {},
     "output_type": "execute_result"
    }
   ],
   "source": [
    "m = geemap.Map(basemap='Esri.WorldTopoMap')\n",
    "palette = ['blue', 'aqua', 'lime', 'yellow', 'orange', 'red']\n",
    "viz_params = {\n",
    "    'min':-2,\n",
    "    'max':2,\n",
    "    'palette': palette\n",
    "}\n",
    "first_spi_image = ee.Image(spi.first().select('SPI'))\n",
    "m = geemap.Map(center=[20, -10], zoom=6)\n",
    "m.addLayer(first_spi_image, viz_params, 'SPI Analysis Outcome')\n",
    "m"
   ]
  },
  {
   "cell_type": "code",
   "execution_count": 33,
   "id": "2c5f15bb-09bf-4ef4-9fa7-a15bba4d1baf",
   "metadata": {},
   "outputs": [
    {
     "data": {
      "text/html": [
       "\n",
       "            <style>\n",
       "                .geemap-dark {\n",
       "                    --jp-widgets-color: white;\n",
       "                    --jp-widgets-label-color: white;\n",
       "                    --jp-ui-font-color1: white;\n",
       "                    --jp-layout-color2: #454545;\n",
       "                    background-color: #383838;\n",
       "                }\n",
       "\n",
       "                .geemap-dark .jupyter-button {\n",
       "                    --jp-layout-color3: #383838;\n",
       "                }\n",
       "\n",
       "                .geemap-colab {\n",
       "                    background-color: var(--colab-primary-surface-color, white);\n",
       "                }\n",
       "\n",
       "                .geemap-colab .jupyter-button {\n",
       "                    --jp-layout-color3: var(--colab-primary-surface-color, white);\n",
       "                }\n",
       "            </style>\n",
       "            "
      ],
      "text/plain": [
       "<IPython.core.display.HTML object>"
      ]
     },
     "metadata": {},
     "output_type": "display_data"
    },
    {
     "name": "stdout",
     "output_type": "stream",
     "text": [
      "First SPI Image Time Range: 2025-01-01 to 2025-02-01\n"
     ]
    }
   ],
   "source": [
    "# Get the first SPI image\n",
    "first_spi_image = ee.Image(spi.first())\n",
    "\n",
    "# Get the start date（ms）\n",
    "start_time = first_spi_image.get('system:time_start')\n",
    "end_time = first_spi_image.get('system:time_end')\n",
    "\n",
    "# Change to a readable date format\n",
    "start_date = ee.Date(start_time).format('YYYY-MM-dd').getInfo()\n",
    "end_date = ee.Date(end_time).format('YYYY-MM-dd').getInfo()\n",
    "\n",
    "# Print the time slot\n",
    "print(f\"First SPI Image Time Range: {start_date} to {end_date}\")\n"
   ]
  },
  {
   "cell_type": "markdown",
   "id": "5275c774-5148-40b1-8a44-ddb9eda1f3a9",
   "metadata": {},
   "source": [
    "### Data Analysis (Precipitation & Temperature)"
   ]
  },
  {
   "cell_type": "code",
   "execution_count": 104,
   "id": "40d553c7-c3b8-403e-bcea-cc9b506b1c97",
   "metadata": {},
   "outputs": [
    {
     "data": {
      "text/html": [
       "\n",
       "            <style>\n",
       "                .geemap-dark {\n",
       "                    --jp-widgets-color: white;\n",
       "                    --jp-widgets-label-color: white;\n",
       "                    --jp-ui-font-color1: white;\n",
       "                    --jp-layout-color2: #454545;\n",
       "                    background-color: #383838;\n",
       "                }\n",
       "\n",
       "                .geemap-dark .jupyter-button {\n",
       "                    --jp-layout-color3: #383838;\n",
       "                }\n",
       "\n",
       "                .geemap-colab {\n",
       "                    background-color: var(--colab-primary-surface-color, white);\n",
       "                }\n",
       "\n",
       "                .geemap-colab .jupyter-button {\n",
       "                    --jp-layout-color3: var(--colab-primary-surface-color, white);\n",
       "                }\n",
       "            </style>\n",
       "            "
      ],
      "text/plain": [
       "<IPython.core.display.HTML object>"
      ]
     },
     "metadata": {},
     "output_type": "display_data"
    },
    {
     "name": "stdin",
     "output_type": "stream",
     "text": [
      "Enter the year for Climate Data Analysis: 2016\n"
     ]
    },
    {
     "name": "stdout",
     "output_type": "stream",
     "text": [
      "Sowing - Precipitation: 0.28464817068791975 mm\n",
      "Sowing - Temperature: 32.71 °C\n",
      "Growing - Precipitation: 0.6560445619554202 mm\n",
      "Growing - Temperature: 32.33 °C\n",
      "Harvesting1 - Precipitation: 0.06178998877771131 mm\n",
      "Harvesting1 - Temperature: 22.46 °C\n",
      "Harvesting2 - Precipitation: 0.03850769771320466 mm\n",
      "Harvesting2 - Temperature: 16.96 °C\n"
     ]
    },
    {
     "data": {
      "image/png": "[encoded data removed]",
      "text/plain": [
       "<Figure size 1000x500 with 1 Axes>"
      ]
     },
     "metadata": {},
     "output_type": "display_data"
    }
   ],
   "source": [
    "ee.Initialize()\n",
    "mauritania = ee.FeatureCollection(\"FAO/GAUL/2015/level0\").filter(ee.Filter.eq('ADM0_NAME', 'Mauritania'))\n",
    "\n",
    "# Select Variables\n",
    "precipitation = ee.ImageCollection(\"UCSB-CHG/CHIRPS/DAILY\").select(\"precipitation\")\n",
    "temperature = ee.ImageCollection(\"ECMWF/ERA5_LAND/DAILY_AGGR\").select(\"temperature_2m\")\n",
    "\n",
    "# Define Growing Period\n",
    "seasons = {\n",
    "    \"Sowing\": {\"start\": \"05-01\", \"end\": \"07-31\"},\n",
    "    \"Growing\": {\"start\": \"08-01\", \"end\": \"10-31\"},\n",
    "    \"Harvesting1\": {\"start\": \"11-01\", \"end\": \"12-31\"},\n",
    "    \"Harvesting2\": {\"start\": \"01-01\", \"end\": \"01-31\"} \n",
    "}\n",
    "\n",
    "year = int(input(\"Enter the year for Climate Data Analysis:\"))\n",
    "\n",
    "def get_seasonal_data(var, season, y):\n",
    "    start_date = f\"{year}-{seasons[season]['start']}\"\n",
    "    end_date = f\"{year}-{seasons[season]['end']}\"\n",
    "\n",
    "    if \"Harvesting2\" in season:\n",
    "        start_date = f\"{y+1}-{seasons[season]['start']}\"\n",
    "        end_date = f\"{y+1}-{seasons[season]['end']}\"\n",
    "    \n",
    "    filtered_data = var.filterDate(start_date, end_date).mean().clip(mauritania)\n",
    "    return filtered_data\n",
    "\n",
    "seasonal_data = {}\n",
    "for season in seasons:\n",
    "    seasonal_data[season] = {\n",
    "        \"precipitation\": get_seasonal_data(precipitation, season, year),\n",
    "        \"temperature\": get_seasonal_data(temperature, season, year)\n",
    "    }\n",
    "\n",
    "# Visualization\n",
    "dates = [datetime.datetime(year, 5, 1), \n",
    "         datetime.datetime(year, 8, 1), \n",
    "         datetime.datetime(year, 11, 1),\n",
    "         datetime.datetime(year+1, 1, 1)\n",
    "        ]\n",
    "\n",
    "precip_values = []\n",
    "temp_values = []\n",
    "\n",
    "for season in seasons:\n",
    "    precip_result = seasonal_data[season][\"precipitation\"].reduceRegion(\n",
    "        reducer=ee.Reducer.mean(), geometry=mauritania, scale=1000\n",
    "    ).getInfo()\n",
    "    \n",
    "    temp_result = seasonal_data[season][\"temperature\"].reduceRegion(\n",
    "        reducer=ee.Reducer.mean(), geometry=mauritania, scale=1000\n",
    "    ).getInfo()\n",
    "\n",
    "    # 处理 None 值，防止 KeyError\n",
    "    precip_value = precip_result.get('precipitation', 0) if precip_result else 0\n",
    "    temp_value_K = temp_result.get('temperature_2m', 0) if temp_result else 0\n",
    "    temp_value_C = temp_value_K - 273.15  \n",
    "\n",
    "    print(f\"{season} - Precipitation: {precip_value} mm\")\n",
    "    print(f\"{season} - Temperature: {temp_value_C:.2f} °C\")\n",
    "\n",
    "    precip_values.append(precip_value)\n",
    "    temp_values.append(temp_value_C)\n",
    "\n",
    "\n",
    "plt.figure(figsize=(10, 5))\n",
    "plt.plot(dates, precip_values, marker='o', label=\"Precipitation (mm)\")\n",
    "plt.plot(dates, temp_values, marker='s', label=\"Temperature (°C)\")\n",
    "plt.xlabel(\"Season\")\n",
    "plt.ylabel(\"Value\")\n",
    "plt.legend()\n",
    "plt.title(f\"Climate Variables in Mauritania ({year})\")\n",
    "plt.grid()\n",
    "plt.show()"
   ]
  },
  {
   "cell_type": "markdown",
   "id": "1801d89d-98c2-49cf-a068-c7265403e7f6",
   "metadata": {},
   "source": [
    "### Data Analysis (Agriculture Variables)"
   ]
  },
  {
   "cell_type": "code",
   "execution_count": 102,
   "id": "104b4ee6-cd95-46c1-9587-283d430ff3bd",
   "metadata": {},
   "outputs": [
    {
     "data": {
      "text/html": [
       "\n",
       "            <style>\n",
       "                .geemap-dark {\n",
       "                    --jp-widgets-color: white;\n",
       "                    --jp-widgets-label-color: white;\n",
       "                    --jp-ui-font-color1: white;\n",
       "                    --jp-layout-color2: #454545;\n",
       "                    background-color: #383838;\n",
       "                }\n",
       "\n",
       "                .geemap-dark .jupyter-button {\n",
       "                    --jp-layout-color3: #383838;\n",
       "                }\n",
       "\n",
       "                .geemap-colab {\n",
       "                    background-color: var(--colab-primary-surface-color, white);\n",
       "                }\n",
       "\n",
       "                .geemap-colab .jupyter-button {\n",
       "                    --jp-layout-color3: var(--colab-primary-surface-color, white);\n",
       "                }\n",
       "            </style>\n",
       "            "
      ],
      "text/plain": [
       "<IPython.core.display.HTML object>"
      ]
     },
     "metadata": {},
     "output_type": "display_data"
    },
    {
     "name": "stdin",
     "output_type": "stream",
     "text": [
      "Enter the year for Climate Data Analysis: 2016\n"
     ]
    },
    {
     "name": "stdout",
     "output_type": "stream",
     "text": [
      "Checking Date Range: 2016-05-01 to 2016-07-31\n",
      "Checking Date Range: 2016-05-01 to 2016-07-31\n",
      "Checking Date Range: 2016-05-01 to 2016-07-31\n",
      "Checking Date Range: 2016-08-01 to 2016-10-31\n",
      "Checking Date Range: 2016-08-01 to 2016-10-31\n",
      "Checking Date Range: 2016-08-01 to 2016-10-31\n",
      "Checking Date Range: 2016-11-01 to 2016-12-31\n",
      "Checking Date Range: 2016-11-01 to 2016-12-31\n",
      "Checking Date Range: 2016-11-01 to 2016-12-31\n",
      "Checking Date Range: 2017-01-01 to 2017-01-31\n",
      "Checking Date Range: 2017-01-01 to 2017-01-31\n",
      "Checking Date Range: 2017-01-01 to 2017-01-31\n",
      "Sowing (2016) - Soil Moisture: 3.223\n",
      "Sowing (2016) - NDVI: 1100.123\n",
      "Sowing (2016) - EVI: 834.781\n",
      "Growing (2016) - Soil Moisture: 4.159\n",
      "Growing (2016) - NDVI: 1352.806\n",
      "Growing (2016) - EVI: 1001.404\n",
      "Harvesting1 (2016) - Soil Moisture: 2.740\n",
      "Harvesting1 (2016) - NDVI: 1140.941\n",
      "Harvesting1 (2016) - EVI: 844.082\n",
      "Harvesting2 (2016) - Soil Moisture: 2.805\n",
      "Harvesting2 (2016) - NDVI: 1132.635\n",
      "Harvesting2 (2016) - EVI: 845.066\n"
     ]
    },
    {
     "data": {
      "image/png": "[encoded data removed]",
      "text/plain": [
       "<Figure size 1000x500 with 1 Axes>"
      ]
     },
     "metadata": {},
     "output_type": "display_data"
    }
   ],
   "source": [
    "mauritania = ee.FeatureCollection(\"FAO/GAUL/2015/level0\").filter(ee.Filter.eq('ADM0_NAME', 'Mauritania'))\n",
    "soil_moisture = ee.ImageCollection(\"NASA_USDA/HSL/SMAP10KM_soil_moisture\").select(\"ssm\")  # Soil Surface Moisture\n",
    "vegetation = ee.ImageCollection(\"MODIS/006/MOD13A2\").select([\"NDVI\", \"EVI\"])  # NDVI & EVI\n",
    "\n",
    "seasons = {\n",
    "    \"Sowing\": {\"start\": \"05-01\", \"end\": \"07-31\"},\n",
    "    \"Growing\": {\"start\": \"08-01\", \"end\": \"10-31\"},\n",
    "    \"Harvesting1\": {\"start\": \"11-01\", \"end\": \"12-31\"},\n",
    "    \"Harvesting2\": {\"start\": \"01-01\", \"end\": \"01-31\"} \n",
    "}\n",
    "\n",
    "year = int(input(\"Enter the year for Climate Data Analysis:\"))\n",
    "\n",
    "def get_agricultural_data(var, season, y):\n",
    "    if \"Harvesting2\" in season:\n",
    "        start_date = f\"{y+1}-{seasons[season]['start']}\" \n",
    "        end_date = f\"{y+1}-{seasons[season]['end']}\"\n",
    "    else:\n",
    "        start_date = f\"{y}-{seasons[season]['start']}\"\n",
    "        end_date = f\"{y}-{seasons[season]['end']}\"\n",
    "    \n",
    "    print(f\"Checking Date Range: {start_date} to {end_date}\")  \n",
    "    return var.filterDate(start_date, end_date).mean().clip(mauritania)\n",
    "\n",
    "agricultural_data = {}\n",
    "for season in seasons:\n",
    "    agricultural_data[season] = {\n",
    "        \"soil_moisture\": get_agricultural_data(soil_moisture, season, year),\n",
    "        \"NDVI\": get_agricultural_data(vegetation.select(\"NDVI\"), season, year),\n",
    "        \"EVI\": get_agricultural_data(vegetation.select(\"EVI\"), season, year)\n",
    "    }\n",
    "\n",
    "dates = [\n",
    "    datetime.datetime(year, 5, 1),\n",
    "    datetime.datetime(year, 8, 1),\n",
    "    datetime.datetime(year, 11, 1),\n",
    "    datetime.datetime(year + 1, 1, 1)\n",
    "]\n",
    "\n",
    "sm_values, ndvi_values, evi_values = [], [], []\n",
    "\n",
    "for season in seasons:\n",
    "    sm_result = agricultural_data[season][\"soil_moisture\"].reduceRegion(\n",
    "        reducer=ee.Reducer.mean(), geometry=mauritania, scale=10000\n",
    "    ).getInfo()\n",
    "\n",
    "    ndvi_result = agricultural_data[season][\"NDVI\"].reduceRegion(\n",
    "        reducer=ee.Reducer.mean(), geometry=mauritania, scale=10000\n",
    "    ).getInfo()\n",
    "\n",
    "    evi_result = agricultural_data[season][\"EVI\"].reduceRegion(\n",
    "        reducer=ee.Reducer.mean(), geometry=mauritania, scale=10000\n",
    "    ).getInfo()\n",
    "\n",
    "    sm_value = sm_result.get('ssm', 0) if sm_result else 0\n",
    "    ndvi_value = ndvi_result.get('NDVI', 0) if ndvi_result else 0\n",
    "    evi_value = evi_result.get('EVI', 0) if evi_result else 0\n",
    "\n",
    "    print(f\"{season} ({year}) - Soil Moisture: {sm_value:.3f}\")\n",
    "    print(f\"{season} ({year}) - NDVI: {ndvi_value:.3f}\")\n",
    "    print(f\"{season} ({year}) - EVI: {evi_value:.3f}\")\n",
    "\n",
    "    sm_values.append(sm_value)\n",
    "    ndvi_values.append(ndvi_value)\n",
    "    evi_values.append(evi_value)\n",
    "\n",
    "plt.figure(figsize=(10, 5))\n",
    "\n",
    "plt.plot(dates, sm_values, marker='o', label=\"Soil Moisture\", color='g')\n",
    "plt.plot(dates, ndvi_values, marker='s', label=\"NDVI\", color='purple')\n",
    "plt.plot(dates, evi_values, marker='^', label=\"EVI\", color='orange')\n",
    "\n",
    "plt.xlabel(\"Season\")\n",
    "plt.ylabel(\"Agricultural Variables\")\n",
    "plt.legend()\n",
    "plt.title(f\"Agricultural Variables in Mauritania ({year})\")\n",
    "plt.grid()\n",
    "\n",
    "plt.show()"
   ]
  },
  {
   "cell_type": "code",
   "execution_count": null,
   "id": "1c39d0f6-e3ba-4be3-9982-49ea359e0051",
   "metadata": {},
   "outputs": [],
   "source": []
  }
 ],
 "metadata": {
  "kernelspec": {
   "display_name": "Python [conda env:base] *",
   "language": "python",
   "name": "conda-base-py"
  },
  "language_info": {
   "codemirror_mode": {
    "name": "ipython",
    "version": 3
   },
   "file_extension": ".py",
   "mimetype": "text/x-python",
   "name": "python",
   "nbconvert_exporter": "python",
   "pygments_lexer": "ipython3",
   "version": "3.12.7"
  }
 },
 "nbformat": 4,
 "nbformat_minor": 5
}
